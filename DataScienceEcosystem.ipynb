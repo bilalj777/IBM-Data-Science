{
 "cells": [
  {
   "cell_type": "markdown",
   "id": "d75a4f25-4bd0-4ba9-9f20-7ba780cf1f0a",
   "metadata": {},
   "source": [
    "# Data Science Tools and Ecosystem\n"
   ]
  },
  {
   "cell_type": "markdown",
   "id": "7a7cb8d0-4778-4ba0-bd9c-bec9b35d3135",
   "metadata": {},
   "source": [
    "## In this notebook, Data Science Tools and Ecosystem are summarized."
   ]
  },
  {
   "cell_type": "markdown",
   "id": "1d438b31-777d-465a-b89a-9389dca997c8",
   "metadata": {},
   "source": [
    "### Some of the popular languages that Data Scientists use are:\n",
    "1. Python\n",
    "2. R\n",
    "3. Java"
   ]
  },
  {
   "cell_type": "markdown",
   "id": "8f6f46c1-f30a-4a74-a54c-83bc9f7953a5",
   "metadata": {},
   "source": [
    "### Some of the commonly used libraries used by Data Scientists include:\n",
    "1. Pandas\n",
    "2. Matplotlib\n",
    "3. TensorFlow"
   ]
  },
  {
   "cell_type": "markdown",
   "id": "dd9af16b-f2b9-4113-8393-58fbcf06a40e",
   "metadata": {},
   "source": [
    "| Data Science Tools| \n",
    "| ---------|\n",
    "| Jupyter Notebook | \n",
    "| RStudio | \n",
    "| Apache Zeppelin | "
   ]
  },
  {
   "cell_type": "markdown",
   "id": "90c85160-aa16-46b4-bf5d-3f27bc0a2d62",
   "metadata": {},
   "source": [
    "### Below are a few examples of evaluating arithmetic expressions in Python"
   ]
  },
  {
   "cell_type": "code",
   "execution_count": 3,
   "id": "13c4bcf0-9eb4-4bc9-97a7-a76f58942ca3",
   "metadata": {},
   "outputs": [
    {
     "data": {
      "text/plain": [
       "17"
      ]
     },
     "execution_count": 3,
     "metadata": {},
     "output_type": "execute_result"
    }
   ],
   "source": [
    "# This is a simple arithmetic expression to multiply then add integers\n",
    "(3*4)+5"
   ]
  },
  {
   "cell_type": "code",
   "execution_count": 4,
   "id": "2f37f303-666c-4723-a911-b7225d2431c8",
   "metadata": {},
   "outputs": [
    {
     "data": {
      "text/plain": [
       "3.3333333333333335"
      ]
     },
     "execution_count": 4,
     "metadata": {},
     "output_type": "execute_result"
    }
   ],
   "source": [
    "#This will convert 200 minutes to hours by diving by 60\n",
    "200/60"
   ]
  },
  {
   "cell_type": "markdown",
   "id": "59fe7f0c-b586-4d86-ae01-b073ad4b5e23",
   "metadata": {},
   "source": [
    "**Objectives.**\n",
    "- List popular languages for Data Science\n",
    "- List of libraries for Data Science\n",
    "- How to make a headline\n",
    "- How to make Fonts bold\n",
    "- How to execute arithmetic equations\n",
    "                \n"
   ]
  },
  {
   "cell_type": "markdown",
   "id": "3eba01a4-df40-47ef-a187-5149e4e0b470",
   "metadata": {},
   "source": [
    "## Author\n",
    "# Bilal El Janoudi"
   ]
  },
  {
   "cell_type": "code",
   "execution_count": null,
   "id": "c757dcd5-2f25-4f05-981e-8d5b8c378625",
   "metadata": {},
   "outputs": [],
   "source": []
  }
 ],
 "metadata": {
  "kernelspec": {
   "display_name": "Python 3 (ipykernel)",
   "language": "python",
   "name": "python3"
  },
  "language_info": {
   "codemirror_mode": {
    "name": "ipython",
    "version": 3
   },
   "file_extension": ".py",
   "mimetype": "text/x-python",
   "name": "python",
   "nbconvert_exporter": "python",
   "pygments_lexer": "ipython3",
   "version": "3.12.3"
  }
 },
 "nbformat": 4,
 "nbformat_minor": 5
}
